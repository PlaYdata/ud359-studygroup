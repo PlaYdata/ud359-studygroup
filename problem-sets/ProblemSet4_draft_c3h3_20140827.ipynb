{
 "metadata": {
  "name": "",
  "signature": "sha256:57a8c122fbcbe7d279bb3fd6770f43016c40a410f63037c23e72c750cc0c125a"
 },
 "nbformat": 3,
 "nbformat_minor": 0,
 "worksheets": [
  {
   "cells": [
    {
     "cell_type": "code",
     "collapsed": false,
     "input": [
      "import pandas as pd"
     ],
     "language": "python",
     "metadata": {},
     "outputs": [],
     "prompt_number": 1
    },
    {
     "cell_type": "code",
     "collapsed": false,
     "input": [
      "from ggplot import *"
     ],
     "language": "python",
     "metadata": {},
     "outputs": [
      {
       "output_type": "stream",
       "stream": "stderr",
       "text": [
        "/home/c3h3/.pyenv/versions/py27/lib/python2.7/site-packages/pkg_resources.py:1045: UserWarning: /home/c3h3/.python-eggs is writable by group/others and vulnerable to attack when used with get_resource_filename. Consider a more secure location (set with .set_extraction_path or the PYTHON_EGG_CACHE environment variable).\n",
        "  warnings.warn(msg, UserWarning)\n"
       ]
      }
     ],
     "prompt_number": 4
    },
    {
     "cell_type": "code",
     "collapsed": false,
     "input": [
      "df = pd.read_csv(\"../data/hr_year.csv\")"
     ],
     "language": "python",
     "metadata": {},
     "outputs": [],
     "prompt_number": 5
    },
    {
     "cell_type": "code",
     "collapsed": false,
     "input": [
      "ggplot(aes(x='yearID', y='HR'), data=df) + geom_point(color=\"red\") + geom_line(color=\"red\")"
     ],
     "language": "python",
     "metadata": {},
     "outputs": [
      {
       "metadata": {},
       "output_type": "pyout",
       "prompt_number": 11,
       "text": [
        "<ggplot: (8790329602601)>"
       ]
      }
     ],
     "prompt_number": 11
    },
    {
     "cell_type": "code",
     "collapsed": false,
     "input": [
      "from pandas import *\n",
      "from ggplot import *\n",
      "\n",
      "import pandas\n",
      "\n",
      "def lineplot(hr_year_csv):\n",
      "    # A csv file will be passed in as an argument which\n",
      "    # contains two columns -- 'HR' (the number of homerun hits)\n",
      "    # and 'yearID' (the year in which the homeruns were hit).\n",
      "    #\n",
      "    # Fill out the body of this function, lineplot, to use the\n",
      "    # passed-in csv file, hr_year.csv, and create a\n",
      "    # chart with points connected by lines, both colored 'red',\n",
      "    # showing the number of HR by year.\n",
      "    #\n",
      "    # You will want to first load the csv file into a pandas dataframe\n",
      "    # and use the pandas dataframe along with ggplot to create your visualization\n",
      "    #\n",
      "    # You can check out the data in the csv file at the link below:\n",
      "    # https://www.dropbox.com/s/awgdal71hc1u06d/hr_year.csv\n",
      "    #\n",
      "    # You can read more about ggplot at the following link:\n",
      "    # https://github.com/yhat/ggplot/\n",
      "    df = read_csv(hr_year_csv)\n",
      "    \n",
      "    gg = ggplot(aes(x='yearID', y='HR'), data=df) + geom_point(color=\"red\") + geom_line(color=\"red\") #YOUR CODE GOES HERE\n",
      "    return gg\n"
     ],
     "language": "python",
     "metadata": {},
     "outputs": [],
     "prompt_number": 12
    },
    {
     "cell_type": "code",
     "collapsed": false,
     "input": [],
     "language": "python",
     "metadata": {},
     "outputs": []
    },
    {
     "cell_type": "code",
     "collapsed": false,
     "input": [],
     "language": "python",
     "metadata": {},
     "outputs": []
    },
    {
     "cell_type": "code",
     "collapsed": false,
     "input": [
      "from pandas import *\n",
      "from ggplot import *\n",
      "\n",
      "import pandas\n",
      "\n",
      "def lineplot_compare(hr_by_team_year_sf_la_csv):\n",
      "    # Write a function, lineplot_compare, that will read a csv file\n",
      "    # called hr_by_team_year_sf_la.csv and plot it using pandas and ggplot2.\n",
      "    #\n",
      "    # This csv file has three columns: yearID, HR, and teamID. The data in the\n",
      "    # file gives the total number of home runs hit each year by the SF Giants \n",
      "    # (teamID == 'SFN') and the LA Dodgers (teamID == \"LAN\"). Produce a \n",
      "    # visualization comparing the total home runs by year of the two teams. \n",
      "    # \n",
      "    # You can see the data in hr_by_team_year_sf_la_csv\n",
      "    # at the link below:\n",
      "    # https://www.dropbox.com/s/wn43cngo2wdle2b/hr_by_team_year_sf_la.csv\n",
      "    #\n",
      "    # Note that to differentiate between multiple categories on the \n",
      "    # same plot in ggplot, we can pass color in with the other arguments\n",
      "    # to aes, rather than in our geometry functions. For example, \n",
      "    # ggplot(data, aes(xvar, yvar, color=category_var)). This should help you \n",
      "    # in this exercise.\n",
      "    df = read_csv(hr_by_team_year_sf_la_csv)\n",
      "    \n",
      "    gg = ggplot(aes(x='yearID', y='HR', color=\"teamID\"), data=df) + geom_point() + geom_line() #YOUR CODE GOES HERE\n",
      "    return gg\n"
     ],
     "language": "python",
     "metadata": {},
     "outputs": [],
     "prompt_number": 13
    },
    {
     "cell_type": "code",
     "collapsed": false,
     "input": [],
     "language": "python",
     "metadata": {},
     "outputs": []
    },
    {
     "cell_type": "code",
     "collapsed": false,
     "input": [],
     "language": "python",
     "metadata": {},
     "outputs": []
    },
    {
     "cell_type": "code",
     "collapsed": false,
     "input": [
      "from pandas import *\n",
      "from ggplot import *\n",
      "\n",
      "def plot_weather_data(turnstile_weather):\n",
      "    '''\n",
      "    plot_weather_data is passed a dataframe called turnstile_weather. \n",
      "    Use turnstile_weather along with ggplot to make a data visualization\n",
      "    focused on the MTA and weather data we used in Project 3.\n",
      "    \n",
      "    You should feel free to implement something that we discussed in class \n",
      "    (e.g., scatterplots, line plots, or histograms) or attempt to implement\n",
      "    something more advanced if you'd like.\n",
      "\n",
      "    Here are some suggestions for things to investigate and illustrate:\n",
      "     * Ridership by time-of-day or day-of-week\n",
      "     * How ridership varies by subway station\n",
      "     * Which stations have more exits or entries at different times of day\n",
      "\n",
      "    If you'd like to learn more about ggplot and its capabilities, take\n",
      "    a look at the documentation at:\n",
      "    https://pypi.python.org/pypi/ggplot/\n",
      "     \n",
      "    You can check out the link \n",
      "    https://www.dropbox.com/s/meyki2wl9xfa7yk/turnstile_data_master_with_weather.csv\n",
      "    to see all the columns and data points included in the turnstile_weather \n",
      "    dataframe.\n",
      "     \n",
      "    However, due to the limitation of our Amazon EC2 server, we will give you only \n",
      "    about 1/3 of the actual data in the turnstile_weather dataframe.\n",
      "    '''\n",
      "    #print turnstile_weather.columns\n",
      "    plot = ggplot(aes(x='mintempi', y='maxtempi'), data=turnstile_weather) + geom_point() # your code here\n",
      "    #plot = turnstile_weather['maxtempi'].hist()\n",
      "    return plot\n"
     ],
     "language": "python",
     "metadata": {},
     "outputs": []
    },
    {
     "cell_type": "code",
     "collapsed": false,
     "input": [],
     "language": "python",
     "metadata": {},
     "outputs": []
    },
    {
     "cell_type": "code",
     "collapsed": false,
     "input": [],
     "language": "python",
     "metadata": {},
     "outputs": []
    },
    {
     "cell_type": "code",
     "collapsed": false,
     "input": [
      "import string"
     ],
     "language": "python",
     "metadata": {},
     "outputs": [],
     "prompt_number": 14
    },
    {
     "cell_type": "code",
     "collapsed": false,
     "input": [
      "string.punctuation"
     ],
     "language": "python",
     "metadata": {},
     "outputs": [
      {
       "metadata": {},
       "output_type": "pyout",
       "prompt_number": 15,
       "text": [
        "'!\"#$%&\\'()*+,-./:;<=>?@[\\\\]^_`{|}~'"
       ]
      }
     ],
     "prompt_number": 15
    },
    {
     "cell_type": "code",
     "collapsed": false,
     "input": [
      "\"@#!@$@!\".replace?"
     ],
     "language": "python",
     "metadata": {},
     "outputs": [
      {
       "output_type": "stream",
       "stream": "stdout",
       "text": [
        "Object `replace` not found.\n"
       ]
      }
     ],
     "prompt_number": 18
    },
    {
     "cell_type": "code",
     "collapsed": false,
     "input": [
      "\"@#!@$@!\".replace"
     ],
     "language": "python",
     "metadata": {},
     "outputs": []
    },
    {
     "cell_type": "code",
     "collapsed": false,
     "input": [],
     "language": "python",
     "metadata": {},
     "outputs": []
    }
   ],
   "metadata": {}
  }
 ]
}