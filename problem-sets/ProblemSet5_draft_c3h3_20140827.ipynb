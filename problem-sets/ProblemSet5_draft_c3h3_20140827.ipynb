{
 "metadata": {
  "name": "",
  "signature": "sha256:aa6b800ad7205845c5403376a2c01540d4f00f82570ded0e5637e81865e90d71"
 },
 "nbformat": 3,
 "nbformat_minor": 0,
 "worksheets": [
  {
   "cells": [
    {
     "cell_type": "code",
     "collapsed": false,
     "input": [
      "import logging\n",
      "import sys\n",
      "import string\n",
      "\n",
      "from util import logfile\n",
      "\n",
      "logging.basicConfig(filename=logfile, format='%(message)s',\n",
      "                   level=logging.INFO, filemode='w')\n",
      "\n",
      "\n",
      "def word_count():\n",
      "    # For this exercise, write a program that serially counts the number of occurrences\n",
      "    # of each word in the book Alice in Wonderland.\n",
      "    #\n",
      "    # The text of Alice in Wonderland will be fed into your program line-by-line.\n",
      "    # Your program needs to take each line and do the following:\n",
      "    # 1) Tokenize the line into string tokens by whitespace\n",
      "    #    Example: \"Hello, World!\" should be converted into \"Hello,\" and \"World!\"\n",
      "    #    (This part has been done for you.)\n",
      "    #\n",
      "    # 2) Remove all punctuation\n",
      "    #    Example: \"Hello,\" and \"World!\" should be converted into \"Hello\" and \"World\"\n",
      "    #\n",
      "    # 3) Make all letters lowercase\n",
      "    #    Example: \"Hello\" and \"World\" should be converted to \"hello\" and \"world\"\n",
      "    #\n",
      "    # Store the the number of times that a word appears in Alice in Wonderland\n",
      "    # in the word_counts dictionary, and then *print* (don't return) that dictionary\n",
      "    #\n",
      "    # In this exercise, print statements will be considered your final output. Because\n",
      "    # of this, printing a debug statement will cause the grader to break. Instead, \n",
      "    # you can use the logging module which we've configured for you.\n",
      "    #\n",
      "    # For example:\n",
      "    # logging.info(\"My debugging message\")\n",
      "    #\n",
      "    # The logging module can be used to give you more control over your\n",
      "    # debugging or other messages than you can get by printing them. Messages \n",
      "    # logged via the logger we configured will be saved to a\n",
      "    # file. If you click \"Test Run\", then you will see the contents of that file\n",
      "    # once your program has finished running.\n",
      "    # \n",
      "    # The logging module also has other capabilities; see \n",
      "    # https://docs.python.org/2/library/logging.html\n",
      "    # for more information.\n",
      "\n",
      "    word_counts = {}\n",
      "    \n",
      "    for line in sys.stdin:\n",
      "        data = line.strip().split(\" \")\n",
      "        for xx in string.punctuation:\n",
      "            data = map(lambda yy:yy.replace(xx,\"\"),data)\n",
      "        \n",
      "        data = map(lambda zz:zz.lower(),data)\n",
      "        \n",
      "        for xx in data:\n",
      "            if xx in word_counts.keys():\n",
      "                word_counts[xx] = word_counts[xx] + 1\n",
      "            else:\n",
      "                word_counts[xx] = 1\n",
      "        # Your code here\n",
      "\n",
      "    print word_counts\n",
      "\n",
      "word_count()\n"
     ],
     "language": "python",
     "metadata": {},
     "outputs": [
      {
       "ename": "ImportError",
       "evalue": "No module named util",
       "output_type": "pyerr",
       "traceback": [
        "\u001b[1;31m---------------------------------------------------------------------------\u001b[0m\n\u001b[1;31mImportError\u001b[0m                               Traceback (most recent call last)",
        "\u001b[1;32m<ipython-input-1-bc6f2c187541>\u001b[0m in \u001b[0;36m<module>\u001b[1;34m()\u001b[0m\n\u001b[0;32m      3\u001b[0m \u001b[1;32mimport\u001b[0m \u001b[0mstring\u001b[0m\u001b[1;33m\u001b[0m\u001b[0m\n\u001b[0;32m      4\u001b[0m \u001b[1;33m\u001b[0m\u001b[0m\n\u001b[1;32m----> 5\u001b[1;33m \u001b[1;32mfrom\u001b[0m \u001b[0mutil\u001b[0m \u001b[1;32mimport\u001b[0m \u001b[0mlogfile\u001b[0m\u001b[1;33m\u001b[0m\u001b[0m\n\u001b[0m\u001b[0;32m      6\u001b[0m \u001b[1;33m\u001b[0m\u001b[0m\n\u001b[0;32m      7\u001b[0m logging.basicConfig(filename=logfile, format='%(message)s',\n",
        "\u001b[1;31mImportError\u001b[0m: No module named util"
       ]
      }
     ],
     "prompt_number": 1
    },
    {
     "cell_type": "code",
     "collapsed": false,
     "input": [],
     "language": "python",
     "metadata": {},
     "outputs": []
    },
    {
     "cell_type": "code",
     "collapsed": false,
     "input": [],
     "language": "python",
     "metadata": {},
     "outputs": []
    },
    {
     "cell_type": "code",
     "collapsed": false,
     "input": [],
     "language": "python",
     "metadata": {},
     "outputs": []
    },
    {
     "cell_type": "code",
     "collapsed": false,
     "input": [],
     "language": "python",
     "metadata": {},
     "outputs": []
    }
   ],
   "metadata": {}
  }
 ]
}